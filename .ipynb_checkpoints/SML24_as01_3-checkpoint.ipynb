{
 "cells": [
  {
   "cell_type": "markdown",
   "metadata": {
    "editable": false,
    "slideshow": {
     "slide_type": ""
    },
    "tags": []
   },
   "source": [
    "1. **Restart the kernel** (in the menubar, select Kernel$\\rightarrow$Restart)\n",
    "2. **Run all cells** (in the menubar, select Cell$\\rightarrow$Run All).\n",
    "3. __Use the__ `Validate` __button in the Assignments tab before submitting__.\n",
    "\n",
    "__Include comments, derivations, explanations, graphs, etc.__ \n",
    "\n",
    "You __work in groups__ (= 3 people). __Write the full name and S/U-number of all team members!__"
   ]
  },
  {
   "cell_type": "raw",
   "metadata": {
    "editable": true,
    "slideshow": {
     "slide_type": ""
    },
    "tags": []
   },
   "source": [
    "GROUP NUMBER (14): \n",
    "* Student 1 name, S/U-number: Sodjamts Enkhbat, S1120696\n",
    "* Student 2 name, S/U-number: Abhinav Reddy Ramireddy, S1113089\n",
    "* Student 3 name, S/U-number: Femke van Venrooij, s1113762"
   ]
  },
  {
   "cell_type": "markdown",
   "metadata": {
    "editable": true,
    "slideshow": {
     "slide_type": ""
    },
    "tags": []
   },
   "source": [
    "---"
   ]
  },
  {
   "cell_type": "markdown",
   "metadata": {
    "deletable": false,
    "editable": false,
    "nbgrader": {
     "cell_type": "markdown",
     "checksum": "909f6d5cb14383f738f728c199f120ee",
     "grade": false,
     "grade_id": "cell-4a3707609a8bbfee",
     "locked": true,
     "schema_version": 3,
     "solution": false,
     "task": false
    },
    "slideshow": {
     "slide_type": ""
    },
    "tags": []
   },
   "source": [
    "# Assignment 1 (Statistical Machine Learning 2024)\n",
    "# **Deadline: 27 September 2024**\n",
    "\n",
    "## Instructions\n",
    "* Fill in any place that says `YOUR CODE HERE` or `YOUR ANSWER HERE` __including comments, derivations, explanations, graphs, etc.__ \n",
    "Elements and/or intermediate steps required to derive the answer have to be in the report. If an exercise requires coding, explain briefly what the code does (in comments). All figures should have titles (descriptions), axis labels, and legends.\n",
    "* Please do __not add new cells__ to the notebook, try to write the answers only in the provided cells. Before you turn the assignment in, make sure everything runs as expected.\n",
    "* __Use the variable names given in the exercises__, do not assign your own variable names. \n",
    "* __Only one team member needs to upload the solutions__. This can be done under the Assignments tab, where you fetched the assignments, and where you can also validate your submissions. Please do not change the filenames of the individual Jupyter notebooks.\n",
    "\n",
    "For any problems or questions regarding the assignments, ask during the tutorial or send an email to charlotte.cambiervannooten@ru.nl and janneke.verbeek@ru.nl .\n",
    "\n",
    "## Introduction\n",
    "Assignment 1 consists of:\n",
    "1. Polynomial curve fitting (50 points);\n",
    "2. Gradient descent (25 points);\n",
    "3. __Fruit boxes (25 points);__\n",
    "4. Probability factorization (BONUS 10 points);\n",
    "\n",
    "## Libraries\n",
    "\n",
    "Please __avoid installing new packages__, unless really necessary."
   ]
  },
  {
   "cell_type": "code",
   "execution_count": null,
   "metadata": {
    "deletable": false,
    "editable": false,
    "nbgrader": {
     "cell_type": "code",
     "checksum": "d0bbce81100157570e2530b5ac3d1fbd",
     "grade": false,
     "grade_id": "cell-3b986e21540420a2",
     "locked": true,
     "schema_version": 3,
     "solution": false,
     "task": false
    }
   },
   "outputs": [],
   "source": [
    "import IPython\n",
    "assert IPython.version_info[0] >= 3, \"Your version of IPython is too old, please update it to at least version 3.\"\n",
    "\n",
    "# Necessary imports (for solutions)\n",
    "import math\n",
    "import numpy as np\n",
    "import matplotlib.pyplot as plt\n",
    "from collections import namedtuple\n",
    "\n",
    "# Set fixed random seed for reproducibility\n",
    "np.random.seed(2022)"
   ]
  },
  {
   "cell_type": "markdown",
   "metadata": {
    "deletable": false,
    "editable": false,
    "nbgrader": {
     "cell_type": "markdown",
     "checksum": "0418fbc30d3f50d686601ff197d27525",
     "grade": false,
     "grade_id": "cell-2a1aae0a18484d04",
     "locked": true,
     "schema_version": 3,
     "solution": false,
     "task": false
    }
   },
   "source": [
    "## Fruit boxes (weight 25)\n",
    "Suppose we have two healthy but curiously mixed boxes of fruit, with one box containing 8 apples and 4 grapefruit and the other containing 15 apples and 3 grapefruit. One of the boxes is selected at random and a piece of fruit is picked (but not eaten) from the chosen box, with equal probability for each item in the box. The piece of fruit is returned and then once again from the *same* box a second piece is chosen at random. This is known as sampling with replacement. Model the chosen box with the random variable $B$, the first piece of fruit with the variable $F_1$, and the second piece with $F_2$.\n",
    "### Exercise 3.1\n",
    "What is the probability that the first piece of fruit is an apple given that the second piece of fruit was a grapefruit? How can the result of the second pick affect the probability of the first pick?"
   ]
  },
  {
   "cell_type": "markdown",
   "metadata": {
    "deletable": false,
    "nbgrader": {
     "cell_type": "markdown",
     "checksum": "71cf34c527a273159e90247f2f299b9c",
     "grade": true,
     "grade_id": "cell-20711d5530b05594",
     "locked": false,
     "points": 7,
     "schema_version": 3,
     "solution": true,
     "task": false
    }
   },
   "source": [
    "YOUR ANSWER HERE\n",
    "$P(box1)=P(box2)=\\frac{1}{2}$\r\n",
    "\r\n",
    "box1 = apple:8, grapefruit:4\r\n",
    "\r\n",
    "box2 = apple:15, grapefruit:3\r\n",
    "\r\n",
    "#### Apple\r\n",
    "$P(apple)$ = P(apple|box1)P(box1) + P(apple|box2)P(box2) = $\\frac{8}{12}$ * $\\frac{1}{2}$ + $\\frac{15}{18}$ * $\\frac{1}{2}$ = $\\frac{8}{24}$ + $\\frac{15}{36}$ = $\\frac{1}{3}$ + $\\frac{5}{12}$ = $\\frac{4}{12}$ + $\\frac{5}{12}$ = $\\frac{9}{12}$ = $\\frac{3}{4}$\r\n",
    "\r\n",
    "$P(apple|box1)$ = $\\frac{8}{12}$ = $\\frac{4}{6}$\r\n",
    "\r\n",
    "$P(apple|box2)$ = $\\frac{15}{18}$ = $\\frac{5}{6}$\r\n",
    "\r\n",
    "$P(box1|apple)$ = $\\frac{P(apple|box1)P(box1)}{P(apple)}$ = $\\frac{\\frac{8}{12} * \\frac{1}{2}}{\\frac{3}{4}}$ = $\\frac{1}{3}$ * $\\frac{4}{3}$ = $\\frac{4}{9}$\r\n",
    "\r\n",
    "$P(box2|apple)$ = 1 - P(box1|apple) = 1 - $\\frac{4}{9}$ = $\\frac{5}{9}$\r\n",
    "\r\n",
    "#### Grapefruit\r\n",
    "$P(gf)$ = P(gf|box1)P(box1) + P(gf|box2)P(box2) = $\\frac{4}{12}$ * $\\frac{1}{2}$ + $\\frac{3}{18}$ * $\\frac{1}{2}$ = $\\frac{4}{24}$ + $\\frac{3}{36}$ = $\\frac{1}{6}$ + $\\frac{1}{12}$ = $\\frac{3}{12}$ = $$\\frac{1}{4}$\r\n",
    "\r\n",
    "$P(gf|box1)$ = $\\frac{4}{12}$ = $\\frac{1}{3}$\r\n",
    "\r\n",
    "$P(gf|box2)$ = $\\frac{3}{18}$ = $$\\frac{1}{6}$\r\n",
    "\r\n",
    "$P(box1|gf)$ = $\\frac{P(gf|box1)P(box1)}{P(gf)}$ = $\\frac{\\frac{4}{12} * \\frac{1}{2}}{\\frac{1}{4}}$ = $\\frac{\\frac{1}{3} * \\frac{1}{2}}{\\frac{1}{4}}$ = $\\frac{1}{6}$ * $\\frac{4}{1}$ = $\\frac{4}{6}$ = $\\frac{2}{3}$\r\n",
    "\r\n",
    "$P(box2|gf)$ = 1 - P(box1|gf) = 1 - $\\frac{2}{3}$ = $\\frac{1}{3}$\r\n",
    "\r\n",
    "#### Main\r\n",
    "$P(pick1=apple|pick2=grapefuit)$\r\n",
    "\r\n",
    "= P(pick1=apple|box1) * P(box1|pick2=gf) + P(pick1=apple|box2) * P(box2|pick2=gf)\r\n",
    "\r\n",
    "= P(apple|box1) * P(box1|gf) + P(apple|box2) * P(box2|gf)\r\n",
    "\r\n",
    "= $\\frac{4}{6}$ * $\\frac{2}{3}$ + $\\frac{5}{6}$ * $\\frac{1}{3}$\r\n",
    "\r\n",
    "= $\\frac{8}{18}$ + $\\frac{5}{18}$\r\n",
    "\r\n",
    "= $\\frac{13}{18}$\r\n",
    "\r\n",
    "= $0.7222$\r\n",
    "\r\n",
    "###### *P(pick1|box) = P(pick2|box) = P(fruit|box) because both picks were made at random from the same box\r\n",
    "\r\n",
    "#### Alternative second pick\r\n",
    "$P(pick1=apple|pick2=apple)$\r\n",
    "\r\n",
    "= P(apple|box1) * P(box1|apple) + P(apple|box2) * P(box2|apple)\r\n",
    "\r\n",
    "= $\\frac{4}{6}$ * $\\frac{4}{9}$ + $\\frac{5}{6}$ * $\\frac{5}{9}$\r\n",
    "\r\n",
    "= $\\frac{16}{54}$ + $\\frac{25}{54}$\r\n",
    "\r\n",
    "= $\\frac{41}{54}$\r\n",
    "\r\n",
    "= $0.7593$\r\n",
    "\r\n",
    "The probability difference of pick1 given alternative pick2 choice is 3.71%. Which does not seem to be a big influence with the majority of the difference coming from the randomness choices and distribution of the system. "
   ]
  },
  {
   "cell_type": "markdown",
   "metadata": {
    "deletable": false,
    "editable": false,
    "nbgrader": {
     "cell_type": "markdown",
     "checksum": "f5081815b1cf92b2880cd47adb5e6cf7",
     "grade": false,
     "grade_id": "cell-49dfe477cdad0ff8",
     "locked": true,
     "schema_version": 3,
     "solution": false,
     "task": false
    }
   },
   "source": [
    "Please add the final result you got in the cell below! (Add it as a fraction, not an estimate. For example, write __1/3__, do not round to a number of decimals.)"
   ]
  },
  {
   "cell_type": "code",
   "execution_count": null,
   "metadata": {
    "deletable": false,
    "nbgrader": {
     "cell_type": "code",
     "checksum": "3a502307711645f0453e6444b8f50156",
     "grade": false,
     "grade_id": "cell-6d4096e0b9231c28",
     "locked": false,
     "schema_version": 3,
     "solution": true,
     "task": false
    }
   },
   "outputs": [],
   "source": [
    "\"\"\"\n",
    "The variable p is probability of the first piece of fruit being\n",
    "an apple given that the second piece of fruit was a grapefruit.\n",
    "\"\"\"\n",
    "# YOUR CODE HERE\n",
    "p = 13/18\n",
    "raise NotImplementedError()"
   ]
  },
  {
   "cell_type": "code",
   "execution_count": null,
   "metadata": {
    "deletable": false,
    "editable": false,
    "nbgrader": {
     "cell_type": "code",
     "checksum": "f2883d640be1793610b60635ef1a0abe",
     "grade": true,
     "grade_id": "cell-13f94c0b98af50e6",
     "locked": true,
     "points": 2,
     "schema_version": 3,
     "solution": false,
     "task": false
    }
   },
   "outputs": [],
   "source": [
    "\"\"\"\n",
    "Hidden check for value of variable p.\n",
    "\"\"\""
   ]
  },
  {
   "cell_type": "markdown",
   "metadata": {
    "deletable": false,
    "editable": false,
    "nbgrader": {
     "cell_type": "markdown",
     "checksum": "daefb7a66bbaabf1623c232bbcd2e1cd",
     "grade": false,
     "grade_id": "cell-533f0ed93282cea2",
     "locked": true,
     "schema_version": 3,
     "solution": false,
     "task": false
    }
   },
   "source": [
    "### Exercise 3.2\n",
    "Imagine now that after we remove a piece of fruit, it is not returned to the box. This is known as sampling without replacement. In this situation, recompute the probability that the first piece of fruit is an apple given that the second piece of fruit was a grapefruit. Explain the difference."
   ]
  },
  {
   "cell_type": "markdown",
   "metadata": {
    "deletable": false,
    "nbgrader": {
     "cell_type": "markdown",
     "checksum": "8ba120562b08539a73ed3ad059a2e52b",
     "grade": true,
     "grade_id": "cell-c5cabea66205f678",
     "locked": false,
     "points": 7,
     "schema_version": 3,
     "solution": true,
     "task": false
    }
   },
   "source": [
    "YOUR ANSWER HERE \n",
    "$P(box1)=P(box2)=\\frac{1}{2}$\r\n",
    "\r\n",
    "box1 = apple:8, grapefruit:4, total:12\r\n",
    "\r\n",
    "box2 = apple:15, grapefruit:3, total:18\r\n",
    "\r\n",
    "\r\n",
    "$P(pick1=apple|pick2=gf)$\r\n",
    "\r\n",
    "= $\\frac{P(pick2=gf|pick1=apple,box1)P(pick1=apple|box1)}{P(pick2=gf|box1)}$\r\n",
    "+ $\\frac{P(pick2=gf|pick1=apple,box2)P(pick1=apple|box2)}{P(pick2=gf|box2)}$\r\n",
    "\r\n",
    "= $\\frac{\\frac{4}{11} * \\frac{8}{12}}{\\frac{4}{11} + \\frac{3}{11}} + \\frac{\\frac{3}{17} * \\frac{15}{18}}{\\frac{3}{17} + \\frac{2}{17}}$\r\n",
    "\r\n",
    "= $\\frac{\\frac{32}{11 *12}}{\\frac{7}{11}} + \\frac{\\frac{45}{17*18}}{\\frac{5}{17}}$\r\n",
    "\r\n",
    "= $\\frac{32}{84} + \\frac{9}{18}$\r\n",
    "\r\n",
    "= $\\frac{8}{21} + \\frac{1}{2}$\r\n",
    "\r\n",
    "= $\\frac{16}{42} + \\frac{21}{42}$\r\n",
    "\r\n",
    "= $\\frac{37}{42}$\r\n",
    "\r\n",
    "= $0.8809$\r\n",
    "\r\n",
    "Because the sampling is without replacement, the distribution of elements will change after each pick such that P(pick1|box1) != P(pick2|box1) for all elements}{pick values.\r\n",
    "\r\n",
    "The probability is higher in this case because pick1 and pick2 have different values, such that pick1 increases the chance of pick2 happening because the pick1 is not replaced back into the distribution. "
   ]
  },
  {
   "cell_type": "markdown",
   "metadata": {
    "deletable": false,
    "editable": false,
    "nbgrader": {
     "cell_type": "markdown",
     "checksum": "2089da2a56d8f63cca56888c8cf0d3cf",
     "grade": false,
     "grade_id": "cell-b2aab5343b969c8a",
     "locked": true,
     "schema_version": 3,
     "solution": false,
     "task": false
    }
   },
   "source": [
    "Please add the final result you got in the cell below! (Add it as a fraction, not an estimate. For example, write __1/3__, do not round to a number of decimals.)"
   ]
  },
  {
   "cell_type": "code",
   "execution_count": 2,
   "metadata": {
    "deletable": false,
    "nbgrader": {
     "cell_type": "code",
     "checksum": "16f923200f4fc392ae85903599942470",
     "grade": false,
     "grade_id": "cell-bbf669c7d7e989eb",
     "locked": false,
     "schema_version": 3,
     "solution": true,
     "task": false
    }
   },
   "outputs": [],
   "source": [
    "\"\"\"\n",
    "The variable p is probability of the first piece of fruit being\n",
    "an apple given that the second piece of fruit was a grapefruit\n",
    "when the sampling was done without replacement.\n",
    "\"\"\"\n",
    "# YOUR CODE HERE\n",
    "p = 37/42"
   ]
  },
  {
   "cell_type": "code",
   "execution_count": 3,
   "metadata": {
    "deletable": false,
    "editable": false,
    "nbgrader": {
     "cell_type": "code",
     "checksum": "b5d7e45759c1ed1210325247c63fe190",
     "grade": true,
     "grade_id": "cell-1aa31b8a1047f19a",
     "locked": true,
     "points": 2,
     "schema_version": 3,
     "solution": false,
     "task": false
    }
   },
   "outputs": [
    {
     "data": {
      "text/plain": [
       "'\\nHidden check for value of variable p.\\n'"
      ]
     },
     "execution_count": 3,
     "metadata": {},
     "output_type": "execute_result"
    }
   ],
   "source": [
    "\"\"\"\n",
    "Hidden check for value of variable p.\n",
    "\"\"\""
   ]
  },
  {
   "cell_type": "markdown",
   "metadata": {
    "deletable": false,
    "editable": false,
    "nbgrader": {
     "cell_type": "markdown",
     "checksum": "f782f9a85dc09a176d4c28c2aac32fdc",
     "grade": false,
     "grade_id": "cell-5e32edcbb1f96df8",
     "locked": true,
     "schema_version": 3,
     "solution": false,
     "task": false
    }
   },
   "source": [
    "### Exercise 3.3\n",
    "Starting from the initial situation (i.e., sampling with replacement), we add a dozen oranges to the first box and repeat the experiment. Show that now the outcome of the first pick has no impact on the probability that the second pick is a grapefruit. Are the two picks now dependent or independent? Explain your answer."
   ]
  },
  {
   "cell_type": "markdown",
   "metadata": {
    "deletable": false,
    "nbgrader": {
     "cell_type": "markdown",
     "checksum": "0c6f39d751ee3ae29422a2ef852f9462",
     "grade": true,
     "grade_id": "cell-03574d2eb9eadf55",
     "locked": false,
     "points": 7,
     "schema_version": 3,
     "solution": true,
     "task": false
    }
   },
   "source": [
    "YOUR ANSWER HERE\n",
    "$P(box1)=P(box2)=\\frac{1}{2}$\r\n",
    "\r\n",
    "box1 = apple:8, grapefruit:4, orange:12 = 24 total\r\n",
    "\r\n",
    "box2 = apple:15, grapefruit:3 = 18 total\r\n",
    "\r\n",
    "#### Apple\r\n",
    "$P(apple|box1) = \\frac{8}{24} = \\frac{1}{3}$\r\n",
    "\r\n",
    "$P(apple|box2) = \\frac{15}{18} = \\frac{5}{6}$\r\n",
    "\r\n",
    "$P(apple) = P(apple|box1)P(box1) + P(apple|box2)P(box2) = \\frac{1}{3} * \\frac{1}{2} + \\frac{5}{6} * \\frac{1}{2} = \\frac{1}{6} + \\frac{5}{12} = \\frac{7}{12}$\r\n",
    "\r\n",
    "$P(box1|apple) = \\frac{P(apple|box1)P(box1)}{P(apple)} = \\frac{\\frac{1}{3} * \\frac{1}{2} }{ \\frac{7}{12}} = \\frac{1}{6} * \\frac{12}{7} = \\frac{2}{7}$\r\n",
    "\r\n",
    "$P(box2|apple) = 1 - P(box1|apple) = 1 - \\frac{2}{7} = \\frac{5}{7}$\r\n",
    "\r\n",
    "#### Grapefruit\r\n",
    "$P(gf|box1) = \\frac{4}{24} = \\frac{1}{6}$\r\n",
    "\r\n",
    "$P(gf|box2) = \\frac{3}{18} = \\frac{1}{6}$\r\n",
    "\r\n",
    "$P(gf) = P(gf|box1)P(box1) + P(gf|box2)P(box2) = \\frac{1}{6} * \\frac{1}{2} + \\frac{1}{6} * \\frac{1}{2} = \\frac{1}{12} + \\frac{1}{12} = \\frac{2}{12} = \\frac{1}{6}$\r\n",
    "\r\n",
    "$P(box1|gf) = \\frac{P(gf|box1)P(box1)}{P(gf)} = \\frac{\\frac{1}{6} * \\frac{1}{2} }{ \\frac{1}{6}} = \\frac{1}{12} * 6 = \\frac{1}{2}$\r\n",
    "\r\n",
    "$P(box2|gf) = 1 - P(box1|gf) = 1 - \\frac{1}{2} = \\frac{1}{2}$\r\n",
    "\r\n",
    "#### Orange\r\n",
    "$P(orange|box1) = \\frac{12}{24} = \\frac{1}{2}$\r\n",
    "\r\n",
    "$P(orange|box2) = 0$\r\n",
    "\r\n",
    "$P(orange) = P(orange|box1)P(box1) + P(orange|box2)P(box2) = \\frac{1}{2} * \\frac{1}{2} + 0 * \\frac{1}{2} = \\frac{1}{4}$\r\n",
    "\r\n",
    "$P(box1|orange) = \\frac{P(orange|box1)P(box1)}{P(orange)} = \\frac{\\frac{1}{2} * \\frac{1}{2} }{ \\frac{1}{4}} = \\frac{1}{4} * 4 = 1$\r\n",
    "\r\n",
    "$P(box2|orange) = 1 - P(box1|orange) = 0$\r\n",
    "\r\n",
    "#### Main\r\n",
    "P(pick2) is not influenced by pick1 because the sampling is done with replacement such that the distribution of pick does not change after a picking.\r\n",
    "\r\n",
    "$P(pick2=gf|pick1=apple)\r\n",
    "= P(gf|box1) * P(box1|apple) + P(gf|box2) * P(box2|apple)\r\n",
    "= \\frac{1}{6} * \\frac{2}{7} + \\frac{1}{6} * \\frac{5}{7}\r\n",
    "= \\frac{2}{42} + \\frac{5}{42}\r\n",
    "= \\frac{7}{42}\r\n",
    "= \\frac{1}{6}$\r\n",
    "\r\n",
    "$P(pick2=gf|pick1=orange)\r\n",
    "= P(gf|box1) * P(box1|orange) + P(gf|box2) * P(box2|orange)\r\n",
    "= \\frac{1}{6} * 1 + \\frac{1}{6} * 0\r\n",
    "= \\frac{1}{6}$\r\n",
    "\r\n",
    "$P(pick2=gf|pick1=gf)\r\n",
    "= P(gf|box1) * P(box1|gf) + P(gf|box2) * P(box2|gf)\r\n",
    "= \\frac{1}{6} * \\frac{1}{2} + \\frac{1}{6} * \\frac{1}{2}\r\n",
    "= \\frac{1}{12} + \\frac{1}{12}\r\n",
    "= \\frac{1}{6}$\r\n",
    "\r\n",
    "###### *P(pick1|box) = P(pick2|box) = P(fruit|box) because both picks were made at random from the same box.\n"
   ]
  },
  {
   "cell_type": "code",
   "execution_count": null,
   "metadata": {},
   "outputs": [],
   "source": []
  }
 ],
 "metadata": {
  "kernelspec": {
   "display_name": "Python 3 (ipykernel)",
   "language": "python",
   "name": "python3"
  },
  "language_info": {
   "codemirror_mode": {
    "name": "ipython",
    "version": 3
   },
   "file_extension": ".py",
   "mimetype": "text/x-python",
   "name": "python",
   "nbconvert_exporter": "python",
   "pygments_lexer": "ipython3",
   "version": "3.10.9"
  }
 },
 "nbformat": 4,
 "nbformat_minor": 4
}
